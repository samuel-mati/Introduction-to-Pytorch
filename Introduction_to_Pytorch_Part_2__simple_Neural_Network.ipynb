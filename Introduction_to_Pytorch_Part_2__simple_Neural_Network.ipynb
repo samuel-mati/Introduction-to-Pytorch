{
  "nbformat": 4,
  "nbformat_minor": 0,
  "metadata": {
    "colab": {
      "provenance": [],
      "gpuType": "T4",
      "include_colab_link": true
    },
    "kernelspec": {
      "name": "python3",
      "display_name": "Python 3"
    },
    "language_info": {
      "name": "python"
    },
    "accelerator": "GPU"
  },
  "cells": [
    {
      "cell_type": "markdown",
      "metadata": {
        "id": "view-in-github",
        "colab_type": "text"
      },
      "source": [
        "<a href=\"https://colab.research.google.com/github/samuel-mati/Introduction-to-Pytorch/blob/main/Introduction_to_Pytorch_Part_2__simple_Neural_Network.ipynb\" target=\"_parent\"><img src=\"https://colab.research.google.com/assets/colab-badge.svg\" alt=\"Open In Colab\"/></a>"
      ]
    },
    {
      "cell_type": "markdown",
      "source": [
        "## **BULDING A BASIC NEURAL NETWORK**\n",
        "![images (1).png](data:image/png;base64,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)"
      ],
      "metadata": {
        "id": "AVwzK52vdcB8"
      }
    },
    {
      "cell_type": "code",
      "execution_count": 133,
      "metadata": {
        "id": "3XLWs5oXdC1K"
      },
      "outputs": [],
      "source": [
        "\n",
        "import torch\n",
        "import torch.nn as nn\n",
        "import torch.nn.functional as F"
      ]
    },
    {
      "cell_type": "code",
      "source": [
        "# Create a Model Class that inherits nn.Module\n",
        "\n",
        "class Model(nn.Module):\n",
        "  #input layer(4 features of the flower)-->\n",
        "  # Hidden Layer 1 (number of neuron) -->\n",
        "  # Hidden layer 2-->\n",
        "  # Output\n",
        "\n",
        "  def __init__(self, in_features=4, h1=8,h2=9, output_features=3):\n",
        "    super().__init__()\n",
        "    self.fc1=nn.Linear(in_features,h1)\n",
        "    self.fc2=nn.Linear(h1,h2)\n",
        "    self.out=nn.Linear(h2,output_features)\n",
        "\n",
        "  def foward(self,X):\n",
        "    X=F.relu(self.fc1(X))\n",
        "    X=F.relu(self.fc2(X))\n",
        "    X=self.out(X)\n",
        "\n",
        "    return X\n",
        "\n"
      ],
      "metadata": {
        "id": "RrrtJl15daZ5"
      },
      "execution_count": 134,
      "outputs": []
    },
    {
      "cell_type": "markdown",
      "source": [
        "**Explanation:**\n",
        "\n",
        "`class Model(nn.Module)`:: This line defines a class named Model that inherits from nn.Module. This is the standard way to create a neural network model in PyTorch. nn.Module provides a lot of useful functionalities for building and training neural networks.\n",
        "\n",
        "`def __init__(self, in_features=4, h1=8,h2=9, output_features=3):`: This is the constructor of the Model class. It initializes the layers of the neural network.\n",
        "\n",
        "`in_features=4:` This specifies the number of input features (4 in this case,  representing 4 features of a flower).\n",
        "`h1=8:` This sets the number of neurons in the first hidden layer to 8.\n",
        "`h2=9`: This sets the number of neurons in the second hidden layer to 9.\n",
        "\n",
        "`output_features=3: `This specifies the number of output features (3 in this case, representing 3 different species of flowers).\n",
        "\n",
        "`self.fc1=nn.Linear(in_features,h1)`: This creates a fully connected (linear) layer named fc1 that connects the input layer to the first hidden layer.\n",
        "\n",
        "`self.fc2=nn.Linear(h1,h2):` This creates a fully connected layer named fc2 that connects the first hidden layer to the second hidden layer.\n",
        "\n",
        "`self.out=nn.Linear(h2,output_features):` This creates a fully connected layer named out that connects the second hidden layer to the output layer.\n",
        "\n",
        "`def foward(self,X)`: This method defines the forward pass of the neural network, which is how input data flows through the network to produce the output.\n",
        "\n",
        "`X=F.relu(self.fc1(X))`: This line applies the relu activation function to the output of the first fully connected layer (fc1). ReLU (Rectified Linear Unit) is a common activation function that introduces non-linearity into the network.\n",
        "\n",
        "`X=F.relu(self.fc2(X))`: This line applies the relu activation function to the output of the second fully connected layer (fc2).\n",
        "\n",
        "`X=self.out(X):` This line passes the output of the second hidden layer through the output layer (out) to produce the final output.\n",
        "return X: This line returns the final output of the network.\n",
        "\n",
        "In summary, the code defines a neural network with two hidden layers and uses the ReLU activation function. It is designed to take an input with 4 features, process it through the layers, and produce an output with 3 features. This type of network is often used for classification tasks, such as classifying flowers based on their features."
      ],
      "metadata": {
        "id": "ZpkP1IGvhH-j"
      }
    },
    {
      "cell_type": "code",
      "source": [
        "# Pick a manual Seed for Randomization\n",
        "\n",
        "torch.manual_seed(30)\n",
        "\n",
        "# Create an Instance of the Model\n",
        "model=Model()"
      ],
      "metadata": {
        "id": "Eq5Esmbrh_wG"
      },
      "execution_count": 135,
      "outputs": []
    },
    {
      "cell_type": "markdown",
      "source": [
        "## **LOAD DATA AND TRAIN THE MODEL**"
      ],
      "metadata": {
        "id": "LGQRBt2mjWDr"
      }
    },
    {
      "cell_type": "code",
      "source": [
        "import pandas as pd\n",
        "import matplotlib.pyplot as plt\n",
        "\n",
        "%matplotlib inline"
      ],
      "metadata": {
        "id": "VVntoNqyjaaC"
      },
      "execution_count": 136,
      "outputs": []
    },
    {
      "cell_type": "code",
      "source": [
        "url='https://gist.githubusercontent.com/netj/8836201/raw/6f9306ad21398ea43cba4f7d537619d0e07d5ae3/iris.csv'\n",
        "df=pd.read_csv(url)"
      ],
      "metadata": {
        "id": "2x2Z8XnSjuP7"
      },
      "execution_count": 137,
      "outputs": []
    },
    {
      "cell_type": "code",
      "source": [
        "df.tail()"
      ],
      "metadata": {
        "colab": {
          "base_uri": "https://localhost:8080/",
          "height": 206
        },
        "id": "2AMeCg8fkSwr",
        "outputId": "815cc2f3-ff7e-4989-9fba-1528f6d276cd"
      },
      "execution_count": 138,
      "outputs": [
        {
          "output_type": "execute_result",
          "data": {
            "text/plain": [
              "     sepal.length  sepal.width  petal.length  petal.width    variety\n",
              "145           6.7          3.0           5.2          2.3  Virginica\n",
              "146           6.3          2.5           5.0          1.9  Virginica\n",
              "147           6.5          3.0           5.2          2.0  Virginica\n",
              "148           6.2          3.4           5.4          2.3  Virginica\n",
              "149           5.9          3.0           5.1          1.8  Virginica"
            ],
            "text/html": [
              "\n",
              "  <div id=\"df-0f4529ef-ba6f-4273-82eb-8ca7d1d2967d\" class=\"colab-df-container\">\n",
              "    <div>\n",
              "<style scoped>\n",
              "    .dataframe tbody tr th:only-of-type {\n",
              "        vertical-align: middle;\n",
              "    }\n",
              "\n",
              "    .dataframe tbody tr th {\n",
              "        vertical-align: top;\n",
              "    }\n",
              "\n",
              "    .dataframe thead th {\n",
              "        text-align: right;\n",
              "    }\n",
              "</style>\n",
              "<table border=\"1\" class=\"dataframe\">\n",
              "  <thead>\n",
              "    <tr style=\"text-align: right;\">\n",
              "      <th></th>\n",
              "      <th>sepal.length</th>\n",
              "      <th>sepal.width</th>\n",
              "      <th>petal.length</th>\n",
              "      <th>petal.width</th>\n",
              "      <th>variety</th>\n",
              "    </tr>\n",
              "  </thead>\n",
              "  <tbody>\n",
              "    <tr>\n",
              "      <th>145</th>\n",
              "      <td>6.7</td>\n",
              "      <td>3.0</td>\n",
              "      <td>5.2</td>\n",
              "      <td>2.3</td>\n",
              "      <td>Virginica</td>\n",
              "    </tr>\n",
              "    <tr>\n",
              "      <th>146</th>\n",
              "      <td>6.3</td>\n",
              "      <td>2.5</td>\n",
              "      <td>5.0</td>\n",
              "      <td>1.9</td>\n",
              "      <td>Virginica</td>\n",
              "    </tr>\n",
              "    <tr>\n",
              "      <th>147</th>\n",
              "      <td>6.5</td>\n",
              "      <td>3.0</td>\n",
              "      <td>5.2</td>\n",
              "      <td>2.0</td>\n",
              "      <td>Virginica</td>\n",
              "    </tr>\n",
              "    <tr>\n",
              "      <th>148</th>\n",
              "      <td>6.2</td>\n",
              "      <td>3.4</td>\n",
              "      <td>5.4</td>\n",
              "      <td>2.3</td>\n",
              "      <td>Virginica</td>\n",
              "    </tr>\n",
              "    <tr>\n",
              "      <th>149</th>\n",
              "      <td>5.9</td>\n",
              "      <td>3.0</td>\n",
              "      <td>5.1</td>\n",
              "      <td>1.8</td>\n",
              "      <td>Virginica</td>\n",
              "    </tr>\n",
              "  </tbody>\n",
              "</table>\n",
              "</div>\n",
              "    <div class=\"colab-df-buttons\">\n",
              "\n",
              "  <div class=\"colab-df-container\">\n",
              "    <button class=\"colab-df-convert\" onclick=\"convertToInteractive('df-0f4529ef-ba6f-4273-82eb-8ca7d1d2967d')\"\n",
              "            title=\"Convert this dataframe to an interactive table.\"\n",
              "            style=\"display:none;\">\n",
              "\n",
              "  <svg xmlns=\"http://www.w3.org/2000/svg\" height=\"24px\" viewBox=\"0 -960 960 960\">\n",
              "    <path d=\"M120-120v-720h720v720H120Zm60-500h600v-160H180v160Zm220 220h160v-160H400v160Zm0 220h160v-160H400v160ZM180-400h160v-160H180v160Zm440 0h160v-160H620v160ZM180-180h160v-160H180v160Zm440 0h160v-160H620v160Z\"/>\n",
              "  </svg>\n",
              "    </button>\n",
              "\n",
              "  <style>\n",
              "    .colab-df-container {\n",
              "      display:flex;\n",
              "      gap: 12px;\n",
              "    }\n",
              "\n",
              "    .colab-df-convert {\n",
              "      background-color: #E8F0FE;\n",
              "      border: none;\n",
              "      border-radius: 50%;\n",
              "      cursor: pointer;\n",
              "      display: none;\n",
              "      fill: #1967D2;\n",
              "      height: 32px;\n",
              "      padding: 0 0 0 0;\n",
              "      width: 32px;\n",
              "    }\n",
              "\n",
              "    .colab-df-convert:hover {\n",
              "      background-color: #E2EBFA;\n",
              "      box-shadow: 0px 1px 2px rgba(60, 64, 67, 0.3), 0px 1px 3px 1px rgba(60, 64, 67, 0.15);\n",
              "      fill: #174EA6;\n",
              "    }\n",
              "\n",
              "    .colab-df-buttons div {\n",
              "      margin-bottom: 4px;\n",
              "    }\n",
              "\n",
              "    [theme=dark] .colab-df-convert {\n",
              "      background-color: #3B4455;\n",
              "      fill: #D2E3FC;\n",
              "    }\n",
              "\n",
              "    [theme=dark] .colab-df-convert:hover {\n",
              "      background-color: #434B5C;\n",
              "      box-shadow: 0px 1px 3px 1px rgba(0, 0, 0, 0.15);\n",
              "      filter: drop-shadow(0px 1px 2px rgba(0, 0, 0, 0.3));\n",
              "      fill: #FFFFFF;\n",
              "    }\n",
              "  </style>\n",
              "\n",
              "    <script>\n",
              "      const buttonEl =\n",
              "        document.querySelector('#df-0f4529ef-ba6f-4273-82eb-8ca7d1d2967d button.colab-df-convert');\n",
              "      buttonEl.style.display =\n",
              "        google.colab.kernel.accessAllowed ? 'block' : 'none';\n",
              "\n",
              "      async function convertToInteractive(key) {\n",
              "        const element = document.querySelector('#df-0f4529ef-ba6f-4273-82eb-8ca7d1d2967d');\n",
              "        const dataTable =\n",
              "          await google.colab.kernel.invokeFunction('convertToInteractive',\n",
              "                                                    [key], {});\n",
              "        if (!dataTable) return;\n",
              "\n",
              "        const docLinkHtml = 'Like what you see? Visit the ' +\n",
              "          '<a target=\"_blank\" href=https://colab.research.google.com/notebooks/data_table.ipynb>data table notebook</a>'\n",
              "          + ' to learn more about interactive tables.';\n",
              "        element.innerHTML = '';\n",
              "        dataTable['output_type'] = 'display_data';\n",
              "        await google.colab.output.renderOutput(dataTable, element);\n",
              "        const docLink = document.createElement('div');\n",
              "        docLink.innerHTML = docLinkHtml;\n",
              "        element.appendChild(docLink);\n",
              "      }\n",
              "    </script>\n",
              "  </div>\n",
              "\n",
              "\n",
              "<div id=\"df-2c352f64-c397-4485-99fc-097b6bc0983e\">\n",
              "  <button class=\"colab-df-quickchart\" onclick=\"quickchart('df-2c352f64-c397-4485-99fc-097b6bc0983e')\"\n",
              "            title=\"Suggest charts\"\n",
              "            style=\"display:none;\">\n",
              "\n",
              "<svg xmlns=\"http://www.w3.org/2000/svg\" height=\"24px\"viewBox=\"0 0 24 24\"\n",
              "     width=\"24px\">\n",
              "    <g>\n",
              "        <path d=\"M19 3H5c-1.1 0-2 .9-2 2v14c0 1.1.9 2 2 2h14c1.1 0 2-.9 2-2V5c0-1.1-.9-2-2-2zM9 17H7v-7h2v7zm4 0h-2V7h2v10zm4 0h-2v-4h2v4z\"/>\n",
              "    </g>\n",
              "</svg>\n",
              "  </button>\n",
              "\n",
              "<style>\n",
              "  .colab-df-quickchart {\n",
              "      --bg-color: #E8F0FE;\n",
              "      --fill-color: #1967D2;\n",
              "      --hover-bg-color: #E2EBFA;\n",
              "      --hover-fill-color: #174EA6;\n",
              "      --disabled-fill-color: #AAA;\n",
              "      --disabled-bg-color: #DDD;\n",
              "  }\n",
              "\n",
              "  [theme=dark] .colab-df-quickchart {\n",
              "      --bg-color: #3B4455;\n",
              "      --fill-color: #D2E3FC;\n",
              "      --hover-bg-color: #434B5C;\n",
              "      --hover-fill-color: #FFFFFF;\n",
              "      --disabled-bg-color: #3B4455;\n",
              "      --disabled-fill-color: #666;\n",
              "  }\n",
              "\n",
              "  .colab-df-quickchart {\n",
              "    background-color: var(--bg-color);\n",
              "    border: none;\n",
              "    border-radius: 50%;\n",
              "    cursor: pointer;\n",
              "    display: none;\n",
              "    fill: var(--fill-color);\n",
              "    height: 32px;\n",
              "    padding: 0;\n",
              "    width: 32px;\n",
              "  }\n",
              "\n",
              "  .colab-df-quickchart:hover {\n",
              "    background-color: var(--hover-bg-color);\n",
              "    box-shadow: 0 1px 2px rgba(60, 64, 67, 0.3), 0 1px 3px 1px rgba(60, 64, 67, 0.15);\n",
              "    fill: var(--button-hover-fill-color);\n",
              "  }\n",
              "\n",
              "  .colab-df-quickchart-complete:disabled,\n",
              "  .colab-df-quickchart-complete:disabled:hover {\n",
              "    background-color: var(--disabled-bg-color);\n",
              "    fill: var(--disabled-fill-color);\n",
              "    box-shadow: none;\n",
              "  }\n",
              "\n",
              "  .colab-df-spinner {\n",
              "    border: 2px solid var(--fill-color);\n",
              "    border-color: transparent;\n",
              "    border-bottom-color: var(--fill-color);\n",
              "    animation:\n",
              "      spin 1s steps(1) infinite;\n",
              "  }\n",
              "\n",
              "  @keyframes spin {\n",
              "    0% {\n",
              "      border-color: transparent;\n",
              "      border-bottom-color: var(--fill-color);\n",
              "      border-left-color: var(--fill-color);\n",
              "    }\n",
              "    20% {\n",
              "      border-color: transparent;\n",
              "      border-left-color: var(--fill-color);\n",
              "      border-top-color: var(--fill-color);\n",
              "    }\n",
              "    30% {\n",
              "      border-color: transparent;\n",
              "      border-left-color: var(--fill-color);\n",
              "      border-top-color: var(--fill-color);\n",
              "      border-right-color: var(--fill-color);\n",
              "    }\n",
              "    40% {\n",
              "      border-color: transparent;\n",
              "      border-right-color: var(--fill-color);\n",
              "      border-top-color: var(--fill-color);\n",
              "    }\n",
              "    60% {\n",
              "      border-color: transparent;\n",
              "      border-right-color: var(--fill-color);\n",
              "    }\n",
              "    80% {\n",
              "      border-color: transparent;\n",
              "      border-right-color: var(--fill-color);\n",
              "      border-bottom-color: var(--fill-color);\n",
              "    }\n",
              "    90% {\n",
              "      border-color: transparent;\n",
              "      border-bottom-color: var(--fill-color);\n",
              "    }\n",
              "  }\n",
              "</style>\n",
              "\n",
              "  <script>\n",
              "    async function quickchart(key) {\n",
              "      const quickchartButtonEl =\n",
              "        document.querySelector('#' + key + ' button');\n",
              "      quickchartButtonEl.disabled = true;  // To prevent multiple clicks.\n",
              "      quickchartButtonEl.classList.add('colab-df-spinner');\n",
              "      try {\n",
              "        const charts = await google.colab.kernel.invokeFunction(\n",
              "            'suggestCharts', [key], {});\n",
              "      } catch (error) {\n",
              "        console.error('Error during call to suggestCharts:', error);\n",
              "      }\n",
              "      quickchartButtonEl.classList.remove('colab-df-spinner');\n",
              "      quickchartButtonEl.classList.add('colab-df-quickchart-complete');\n",
              "    }\n",
              "    (() => {\n",
              "      let quickchartButtonEl =\n",
              "        document.querySelector('#df-2c352f64-c397-4485-99fc-097b6bc0983e button');\n",
              "      quickchartButtonEl.style.display =\n",
              "        google.colab.kernel.accessAllowed ? 'block' : 'none';\n",
              "    })();\n",
              "  </script>\n",
              "</div>\n",
              "\n",
              "    </div>\n",
              "  </div>\n"
            ],
            "application/vnd.google.colaboratory.intrinsic+json": {
              "type": "dataframe",
              "summary": "{\n  \"name\": \"df\",\n  \"rows\": 5,\n  \"fields\": [\n    {\n      \"column\": \"sepal.length\",\n      \"properties\": {\n        \"dtype\": \"number\",\n        \"std\": 0.30331501776206193,\n        \"min\": 5.9,\n        \"max\": 6.7,\n        \"num_unique_values\": 5,\n        \"samples\": [\n          6.3,\n          5.9,\n          6.5\n        ],\n        \"semantic_type\": \"\",\n        \"description\": \"\"\n      }\n    },\n    {\n      \"column\": \"sepal.width\",\n      \"properties\": {\n        \"dtype\": \"number\",\n        \"std\": 0.31937438845342625,\n        \"min\": 2.5,\n        \"max\": 3.4,\n        \"num_unique_values\": 3,\n        \"samples\": [\n          3.0,\n          2.5,\n          3.4\n        ],\n        \"semantic_type\": \"\",\n        \"description\": \"\"\n      }\n    },\n    {\n      \"column\": \"petal.length\",\n      \"properties\": {\n        \"dtype\": \"number\",\n        \"std\": 0.14832396974191348,\n        \"min\": 5.0,\n        \"max\": 5.4,\n        \"num_unique_values\": 4,\n        \"samples\": [\n          5.0,\n          5.1,\n          5.2\n        ],\n        \"semantic_type\": \"\",\n        \"description\": \"\"\n      }\n    },\n    {\n      \"column\": \"petal.width\",\n      \"properties\": {\n        \"dtype\": \"number\",\n        \"std\": 0.23021728866442667,\n        \"min\": 1.8,\n        \"max\": 2.3,\n        \"num_unique_values\": 4,\n        \"samples\": [\n          1.9,\n          1.8,\n          2.3\n        ],\n        \"semantic_type\": \"\",\n        \"description\": \"\"\n      }\n    },\n    {\n      \"column\": \"variety\",\n      \"properties\": {\n        \"dtype\": \"category\",\n        \"num_unique_values\": 1,\n        \"samples\": [\n          \"Virginica\"\n        ],\n        \"semantic_type\": \"\",\n        \"description\": \"\"\n      }\n    }\n  ]\n}"
            }
          },
          "metadata": {},
          "execution_count": 138
        }
      ]
    },
    {
      "cell_type": "code",
      "source": [
        "# Change last column to floats\n",
        "df['variety']=df['variety'].replace('Setosa',0.0)\n",
        "df['variety']=df['variety'].replace('Versicolor',1.0)\n",
        "df['variety']=df['variety'].replace('Virginica',2.0)"
      ],
      "metadata": {
        "id": "gi1HrBUZkR_P",
        "colab": {
          "base_uri": "https://localhost:8080/"
        },
        "outputId": "448e6ce9-3cb3-4098-cf3a-4bc8229542ae"
      },
      "execution_count": 139,
      "outputs": [
        {
          "output_type": "stream",
          "name": "stderr",
          "text": [
            "<ipython-input-139-cc2be79ddaba>:4: FutureWarning: Downcasting behavior in `replace` is deprecated and will be removed in a future version. To retain the old behavior, explicitly call `result.infer_objects(copy=False)`. To opt-in to the future behavior, set `pd.set_option('future.no_silent_downcasting', True)`\n",
            "  df['variety']=df['variety'].replace('Virginica',2.0)\n"
          ]
        }
      ]
    },
    {
      "cell_type": "code",
      "source": [
        "df['variety'].unique()"
      ],
      "metadata": {
        "colab": {
          "base_uri": "https://localhost:8080/"
        },
        "id": "YTdJYnFhlIPB",
        "outputId": "139ac42d-7714-4e62-8c5a-7b816f6c4c44"
      },
      "execution_count": 140,
      "outputs": [
        {
          "output_type": "execute_result",
          "data": {
            "text/plain": [
              "array([0., 1., 2.])"
            ]
          },
          "metadata": {},
          "execution_count": 140
        }
      ]
    },
    {
      "cell_type": "code",
      "source": [
        "#Train, Test Split!! Set X,y\n",
        "\n",
        "X=df.drop('variety',axis=1)\n",
        "y=df['variety']"
      ],
      "metadata": {
        "id": "zwDPS-DtlQFu"
      },
      "execution_count": 141,
      "outputs": []
    },
    {
      "cell_type": "code",
      "source": [
        "X=X.values\n",
        "y=y.values"
      ],
      "metadata": {
        "id": "0vVEhw0klrgk"
      },
      "execution_count": 142,
      "outputs": []
    },
    {
      "cell_type": "code",
      "source": [
        "from sklearn.model_selection import train_test_split"
      ],
      "metadata": {
        "id": "1GSQQpOqlv8Q"
      },
      "execution_count": 143,
      "outputs": []
    },
    {
      "cell_type": "code",
      "source": [
        "#Train Test Split\n",
        "\n",
        "X_train,X_test,y_train,y_test=train_test_split(X,y,test_size=0.2, random_state=30)"
      ],
      "metadata": {
        "id": "sEcUVtebl9eh"
      },
      "execution_count": 144,
      "outputs": []
    },
    {
      "cell_type": "code",
      "source": [
        "# Convert X featuers to float tensors\n",
        "X_train=torch.FloatTensor(X_train)\n",
        "X_test=torch.FloatTensor(X_test)\n"
      ],
      "metadata": {
        "id": "0JSHh1ramSMy"
      },
      "execution_count": 145,
      "outputs": []
    },
    {
      "cell_type": "code",
      "source": [
        "# Convert y labels to long tensors\n",
        "y_train=torch.LongTensor(y_train)\n",
        "y_test=torch.LongTensor(y_test)"
      ],
      "metadata": {
        "id": "TomkLIKPmjxK"
      },
      "execution_count": 146,
      "outputs": []
    },
    {
      "cell_type": "code",
      "source": [
        "# Set the criterion to measure the error\n",
        "\n",
        "criterion=nn.CrossEntropyLoss()\n",
        "\n",
        "# Choose an Adam Optimizer, learning rate(if error does not go down after a bunch of iterations(epochs) we, lower our learning rate)\n",
        "\n",
        "optimizer=torch.optim.Adam(model.parameters(),lr=0.01)\n",
        "\n"
      ],
      "metadata": {
        "id": "j3q72N5Kmvya"
      },
      "execution_count": 147,
      "outputs": []
    },
    {
      "cell_type": "code",
      "source": [
        "#Train our Model\n",
        "# Epochs? (one run through all the training data)\n",
        "epochs=100\n",
        "\n",
        "losses=[]\n",
        "\n",
        "for i in range(epochs):\n",
        "  #Go forward and get a predictions\n",
        "  y_pred=model.foward(X_train) # Get predicted results\n",
        "\n",
        "  # Measure the loss/error\n",
        "  loss=criterion(y_pred, y_train) # predicted value vs y_train\n",
        "  # Keep track of our losses\n",
        "  losses.append(loss.detach().numpy())\n",
        "\n",
        "  # print every 10 epoch\n",
        "  if i % 10==0:\n",
        "    print(f\"Epoch: {i} and loss: {loss}\")\n",
        "\n",
        "  # Do back propagation-->Error rate of foward propagation and feed back through the\n",
        "  # network to fine tune the wights\n",
        "\n",
        "  optimizer.zero_grad()\n",
        "  loss.backward()\n",
        "  optimizer.step()"
      ],
      "metadata": {
        "colab": {
          "base_uri": "https://localhost:8080/"
        },
        "id": "kZxtVuIinja2",
        "outputId": "8164f260-bce4-4a07-e75f-7ca114e1d0a8"
      },
      "execution_count": 148,
      "outputs": [
        {
          "output_type": "stream",
          "name": "stdout",
          "text": [
            "Epoch: 0 and loss: 1.1693464517593384\n",
            "Epoch: 10 and loss: 1.0425225496292114\n",
            "Epoch: 20 and loss: 0.9181672930717468\n",
            "Epoch: 30 and loss: 0.647976815700531\n",
            "Epoch: 40 and loss: 0.45246782898902893\n",
            "Epoch: 50 and loss: 0.30702248215675354\n",
            "Epoch: 60 and loss: 0.17922578752040863\n",
            "Epoch: 70 and loss: 0.10770022124052048\n",
            "Epoch: 80 and loss: 0.0759068951010704\n",
            "Epoch: 90 and loss: 0.06145031750202179\n"
          ]
        }
      ]
    },
    {
      "cell_type": "code",
      "source": [
        "#Graph it out\n",
        "\n",
        "plt.plot(range(epochs),losses)\n",
        "plt.ylabel('Loss/Error')\n",
        "plt.xlabel('Epoch')"
      ],
      "metadata": {
        "colab": {
          "base_uri": "https://localhost:8080/",
          "height": 466
        },
        "id": "A4j3-w0fsLgo",
        "outputId": "68572b96-efa4-4759-ef21-4b9845fe4d04"
      },
      "execution_count": 149,
      "outputs": [
        {
          "output_type": "execute_result",
          "data": {
            "text/plain": [
              "Text(0.5, 0, 'Epoch')"
            ]
          },
          "metadata": {},
          "execution_count": 149
        },
        {
          "output_type": "display_data",
          "data": {
            "text/plain": [
              "<Figure size 640x480 with 1 Axes>"
            ],
            "image/png": "[encoded data removed]"
          },
          "metadata": {}
        }
      ]
    },
    {
      "cell_type": "code",
      "source": [
        "# Evaluate Modelon Test Data\n",
        "\n",
        "with torch.no_grad():\n",
        "  y_eval=model.foward(X_test)\n",
        "  loss=criterion(y_eval, y_test) # find the  loss/error"
      ],
      "metadata": {
        "id": "_BgHP1vJtDev"
      },
      "execution_count": 150,
      "outputs": []
    },
    {
      "cell_type": "code",
      "source": [
        "loss"
      ],
      "metadata": {
        "colab": {
          "base_uri": "https://localhost:8080/"
        },
        "id": "4900rxMkU7vF",
        "outputId": "872ad8e0-ee0c-4fe6-aba3-ddfc0e3d265a"
      },
      "execution_count": 151,
      "outputs": [
        {
          "output_type": "execute_result",
          "data": {
            "text/plain": [
              "tensor(0.0858)"
            ]
          },
          "metadata": {},
          "execution_count": 151
        }
      ]
    },
    {
      "cell_type": "code",
      "source": [
        "correct=0\n",
        "with torch.no_grad():\n",
        "  for i,data in enumerate(X_test):\n",
        "    y_val=model.foward(data)\n",
        "\n",
        "    # tell what type of flower the model thinks it is\n",
        "    print(f\"{i+1}.) {str(y_val)} \\t {y_test[i]} \\t {y_val.argmax()}\")\n",
        "\n",
        "    #correct or not\n",
        "    if y_val.argmax().item()==y_test[i]:\n",
        "      correct+=1\n",
        "print(f'We got {correct} correct out of {len(y_test)}')\n",
        "print(f'Accuracy: {100*correct/len(y_test)}% ')\n",
        "\n",
        "\n"
      ],
      "metadata": {
        "colab": {
          "base_uri": "https://localhost:8080/"
        },
        "id": "FwXPe0tEVHQu",
        "outputId": "d83d82bf-d75d-435f-e02e-487eeb7f47f9"
      },
      "execution_count": 152,
      "outputs": [
        {
          "output_type": "stream",
          "name": "stdout",
          "text": [
            "1.) tensor([ 17.3322,  11.4964, -14.5622]) \t 0 \t 0\n",
            "2.) tensor([ 17.7481,  11.9074, -14.8118]) \t 0 \t 0\n",
            "3.) tensor([ 15.4589,  10.2350, -13.0282]) \t 0 \t 0\n",
            "4.) tensor([-7.1832,  4.6249, 10.0390]) \t 2 \t 2\n",
            "5.) tensor([2.5875, 8.0153, 0.4037]) \t 1 \t 1\n",
            "6.) tensor([2.0078, 7.4144, 0.7636]) \t 1 \t 1\n",
            "7.) tensor([-4.2486,  6.0439,  7.3626]) \t 2 \t 2\n",
            "8.) tensor([-6.4982,  5.7554,  9.8881]) \t 2 \t 2\n",
            "9.) tensor([2.2155, 8.4658, 1.0533]) \t 1 \t 1\n",
            "10.) tensor([-8.0804,  5.5843, 11.4690]) \t 2 \t 2\n",
            "11.) tensor([ 15.3080,  10.0152, -12.8555]) \t 0 \t 0\n",
            "12.) tensor([-7.2991,  5.0731, 10.3454]) \t 2 \t 2\n",
            "13.) tensor([ 3.4266,  7.4623, -0.8395]) \t 1 \t 1\n",
            "14.) tensor([1.0260, 7.4454, 1.9227]) \t 1 \t 1\n",
            "15.) tensor([ 14.8656,   9.8297, -12.5227]) \t 0 \t 0\n",
            "16.) tensor([1.6583, 8.1124, 1.5170]) \t 1 \t 1\n",
            "17.) tensor([ 18.9748,  12.1829, -15.8521]) \t 0 \t 0\n",
            "18.) tensor([ 16.1992,  10.6177, -13.6124]) \t 0 \t 0\n",
            "19.) tensor([ 15.1557,  10.5172, -12.6210]) \t 0 \t 0\n",
            "20.) tensor([-3.1993,  6.2897,  6.2220]) \t 1 \t 1\n",
            "21.) tensor([-3.4430,  6.3581,  6.5160]) \t 2 \t 2\n",
            "22.) tensor([ 15.6943,  10.2273, -13.1651]) \t 0 \t 0\n",
            "23.) tensor([ 17.6212,  11.4206, -14.7602]) \t 0 \t 0\n",
            "24.) tensor([ 17.3120,  11.1252, -14.4650]) \t 0 \t 0\n",
            "25.) tensor([-10.0814,   5.1880,  13.6191]) \t 2 \t 2\n",
            "26.) tensor([-9.3675,  4.4000, 12.4770]) \t 2 \t 2\n",
            "27.) tensor([-3.5608,  6.2285,  6.6492]) \t 1 \t 2\n",
            "28.) tensor([-9.1519,  4.7143, 12.3907]) \t 2 \t 2\n",
            "29.) tensor([ 16.3786,  10.6365, -13.7260]) \t 0 \t 0\n",
            "30.) tensor([-0.1239,  7.2555,  3.1559]) \t 1 \t 1\n",
            "We got 29 correct out of 30\n",
            "Accuracy: 96.66666666666667% \n"
          ]
        }
      ]
    },
    {
      "cell_type": "markdown",
      "source": [
        "## **EVALUATE NEW DATA ON THE NETWORK**"
      ],
      "metadata": {
        "id": "TMSkyoR8aq45"
      }
    },
    {
      "cell_type": "code",
      "source": [
        "new_iris=torch.tensor([4.7,2.2,1.3,0.2])"
      ],
      "metadata": {
        "id": "lDX80KzNXVyY"
      },
      "execution_count": 153,
      "outputs": []
    },
    {
      "cell_type": "code",
      "source": [
        "with torch.no_grad():\n",
        "  print(model.foward(new_iris))"
      ],
      "metadata": {
        "colab": {
          "base_uri": "https://localhost:8080/"
        },
        "id": "itIc_OwIbG90",
        "outputId": "d395a551-7066-453c-aa1d-d7aa0144c6d3"
      },
      "execution_count": 154,
      "outputs": [
        {
          "output_type": "stream",
          "name": "stdout",
          "text": [
            "tensor([ 14.4468,   9.5762, -12.1783])\n"
          ]
        }
      ]
    },
    {
      "cell_type": "code",
      "source": [
        "new_iris=torch.tensor([6.5,3.0,5.2,2.3])"
      ],
      "metadata": {
        "id": "k4Aa2QeAbQW-"
      },
      "execution_count": 155,
      "outputs": []
    },
    {
      "cell_type": "code",
      "source": [
        "with torch.no_grad():\n",
        "  print(model.foward(new_iris))"
      ],
      "metadata": {
        "colab": {
          "base_uri": "https://localhost:8080/"
        },
        "id": "4pDY35ksce11",
        "outputId": "08885120-1b0a-41b5-89c0-2de5a3b50fcd"
      },
      "execution_count": 156,
      "outputs": [
        {
          "output_type": "stream",
          "name": "stdout",
          "text": [
            "tensor([-7.0554,  5.4021, 10.3518])\n"
          ]
        }
      ]
    },
    {
      "cell_type": "code",
      "source": [],
      "metadata": {
        "id": "ADBjmZ7McgyA"
      },
      "execution_count": 156,
      "outputs": []
    },
    {
      "cell_type": "markdown",
      "source": [
        "##**SAVE AND LOAD OUR MODEL**\n",
        "\n"
      ],
      "metadata": {
        "id": "8-8GVfZlcprn"
      }
    },
    {
      "cell_type": "code",
      "source": [
        "# Save NN Model\n",
        "\n",
        "torch.save(model.state_dict(),'my_awesome_iris_model.pt')"
      ],
      "metadata": {
        "id": "glmD_Uhrcybt"
      },
      "execution_count": 157,
      "outputs": []
    },
    {
      "cell_type": "code",
      "source": [
        "# Load our saved model\n",
        "new_model=Model()\n",
        "new_model.load_state_dict(torch.load('my_awesome_iris_model.pt'))"
      ],
      "metadata": {
        "colab": {
          "base_uri": "https://localhost:8080/"
        },
        "id": "pEZJfRfudE5V",
        "outputId": "6002b065-731a-45c0-c13d-4e2d2b2bdea5"
      },
      "execution_count": 158,
      "outputs": [
        {
          "output_type": "stream",
          "name": "stderr",
          "text": [
            "<ipython-input-158-c6f02ad2c414>:3: FutureWarning: You are using `torch.load` with `weights_only=False` (the current default value), which uses the default pickle module implicitly. It is possible to construct malicious pickle data which will execute arbitrary code during unpickling (See https://github.com/pytorch/pytorch/blob/main/SECURITY.md#untrusted-models for more details). In a future release, the default value for `weights_only` will be flipped to `True`. This limits the functions that could be executed during unpickling. Arbitrary objects will no longer be allowed to be loaded via this mode unless they are explicitly allowlisted by the user via `torch.serialization.add_safe_globals`. We recommend you start setting `weights_only=True` for any use case where you don't have full control of the loaded file. Please open an issue on GitHub for any issues related to this experimental feature.\n",
            "  new_model.load_state_dict(torch.load('my_awesome_iris_model.pt'))\n"
          ]
        },
        {
          "output_type": "execute_result",
          "data": {
            "text/plain": [
              "<All keys matched successfully>"
            ]
          },
          "metadata": {},
          "execution_count": 158
        }
      ]
    },
    {
      "cell_type": "code",
      "source": [
        "new_model.eval()"
      ],
      "metadata": {
        "colab": {
          "base_uri": "https://localhost:8080/"
        },
        "id": "itFkMmladPUA",
        "outputId": "9c7ed77e-869e-4022-c9fa-36a68b1d3a4e"
      },
      "execution_count": 159,
      "outputs": [
        {
          "output_type": "execute_result",
          "data": {
            "text/plain": [
              "Model(\n",
              "  (fc1): Linear(in_features=4, out_features=8, bias=True)\n",
              "  (fc2): Linear(in_features=8, out_features=9, bias=True)\n",
              "  (out): Linear(in_features=9, out_features=3, bias=True)\n",
              ")"
            ]
          },
          "metadata": {},
          "execution_count": 159
        }
      ]
    },
    {
      "cell_type": "code",
      "source": [
        "new_iris = torch.tensor([4.7, 2.2, 1.3, 0.2])  # Input for the new sample\n",
        "new_iris = new_iris.float()  # Ensure the data type is compatible\n",
        "\n",
        "# Predict the class for the new iris sample\n",
        "with torch.no_grad():\n",
        "    prediction = model.foward(new_iris)  # Get model output\n",
        "    predicted_class = prediction.argmax().item()  # Get the index of the max value (predicted class)\n",
        "    print(f\"Predicted class for new iris sample: {predicted_class}\")\n"
      ],
      "metadata": {
        "colab": {
          "base_uri": "https://localhost:8080/"
        },
        "id": "ZMEVYBQSdUZ8",
        "outputId": "a17b54c8-e89b-4546-d8c5-833c82b2ecd2"
      },
      "execution_count": 161,
      "outputs": [
        {
          "output_type": "stream",
          "name": "stdout",
          "text": [
            "Predicted class for new iris sample: 0\n"
          ]
        }
      ]
    },
    {
      "cell_type": "code",
      "source": [],
      "metadata": {
        "id": "_2iS7hpXek-n"
      },
      "execution_count": null,
      "outputs": []
    }
  ]
}