{
  "nbformat": 4,
  "nbformat_minor": 0,
  "metadata": {
    "colab": {
      "provenance": [],
      "gpuType": "T4",
      "authorship_tag": "ABX9TyPWfxiLX8FI8lT00GWWIuwB",
      "include_colab_link": true
    },
    "kernelspec": {
      "name": "python3",
      "display_name": "Python 3"
    },
    "language_info": {
      "name": "python"
    },
    "accelerator": "GPU"
  },
  "cells": [
    {
      "cell_type": "markdown",
      "metadata": {
        "id": "view-in-github",
        "colab_type": "text"
      },
      "source": [
        "<a href=\"https://colab.research.google.com/github/samuel-mati/Introduction-to-Pytorch/blob/main/Introduction_to_Pytorch.ipynb\" target=\"_parent\"><img src=\"https://colab.research.google.com/assets/colab-badge.svg\" alt=\"Open In Colab\"/></a>"
      ]
    },
    {
      "cell_type": "markdown",
      "source": [
        "**TENSORS**\n",
        "\n",
        "\n",
        "*   A **torch.Tensor** is a multi-dimensional matrix containing elements of a single datatype.\n",
        "*   Similar to Numpy Arrays, but full of fun things to make them work better on GPU's\n",
        "*  Default data type of float32\n",
        "*  More suitable for deep learning than numpy array\n",
        "\n",
        "\n"
      ],
      "metadata": {
        "id": "lm1zA833REui"
      }
    },
    {
      "cell_type": "code",
      "source": [
        "import torch\n",
        "import numpy as np"
      ],
      "metadata": {
        "id": "HAIU1WnQSNqi"
      },
      "execution_count": 2,
      "outputs": []
    },
    {
      "cell_type": "markdown",
      "source": [
        "## **LISTS**"
      ],
      "metadata": {
        "id": "4E4vQ7ggSXBq"
      }
    },
    {
      "cell_type": "code",
      "source": [
        " my_list=[[1,2,3,4,5],[6,7,8,9,10]]\n",
        " my_list"
      ],
      "metadata": {
        "colab": {
          "base_uri": "https://localhost:8080/"
        },
        "id": "uZYl_hXwSVYo",
        "outputId": "74c72d21-83ee-4e90-eefa-2bc2fff26ba2"
      },
      "execution_count": 3,
      "outputs": [
        {
          "output_type": "execute_result",
          "data": {
            "text/plain": [
              "[[1, 2, 3, 4, 5], [6, 7, 8, 9, 10]]"
            ]
          },
          "metadata": {},
          "execution_count": 3
        }
      ]
    },
    {
      "cell_type": "markdown",
      "source": [
        "### **NUMPY ARRAYS**"
      ],
      "metadata": {
        "id": "f9iF52BMSh8l"
      }
    },
    {
      "cell_type": "code",
      "source": [
        "np1=np.random.rand(3,4)\n",
        "np1"
      ],
      "metadata": {
        "colab": {
          "base_uri": "https://localhost:8080/"
        },
        "id": "cXXr48bpShKY",
        "outputId": "e65f766f-4634-4f17-858b-33d443b28290"
      },
      "execution_count": 4,
      "outputs": [
        {
          "output_type": "execute_result",
          "data": {
            "text/plain": [
              "array([[0.42700619, 0.31577618, 0.57183397, 0.42529429],\n",
              "       [0.13011096, 0.43420209, 0.22695529, 0.9240136 ],\n",
              "       [0.45523978, 0.51680264, 0.77646693, 0.57838836]])"
            ]
          },
          "metadata": {},
          "execution_count": 4
        }
      ]
    },
    {
      "cell_type": "code",
      "source": [
        "np1.dtype"
      ],
      "metadata": {
        "colab": {
          "base_uri": "https://localhost:8080/"
        },
        "id": "Nv87NcZPSvGg",
        "outputId": "3fb0fb39-89c7-4b6d-970b-c62d4bcdaaf0"
      },
      "execution_count": 5,
      "outputs": [
        {
          "output_type": "execute_result",
          "data": {
            "text/plain": [
              "dtype('float64')"
            ]
          },
          "metadata": {},
          "execution_count": 5
        }
      ]
    },
    {
      "cell_type": "markdown",
      "source": [
        "### **TENSORS**"
      ],
      "metadata": {
        "id": "4I0_CyPIS3Ps"
      }
    },
    {
      "cell_type": "code",
      "source": [
        "tensor_2d=torch.randn(3,4)\n",
        "tensor_2d"
      ],
      "metadata": {
        "colab": {
          "base_uri": "https://localhost:8080/"
        },
        "id": "oR1j0ZT7SxsS",
        "outputId": "5af5a471-dfac-4a08-9423-487db9f44001"
      },
      "execution_count": 6,
      "outputs": [
        {
          "output_type": "execute_result",
          "data": {
            "text/plain": [
              "tensor([[-1.4858e+00,  1.0158e+00,  1.2603e+00,  1.4249e+00],\n",
              "        [ 7.8176e-01, -3.4261e-01,  1.7223e-01, -1.2030e+00],\n",
              "        [-1.9170e+00, -1.0863e-03,  1.8560e-01, -3.5176e-01]])"
            ]
          },
          "metadata": {},
          "execution_count": 6
        }
      ]
    },
    {
      "cell_type": "code",
      "source": [
        "tensor_3d=torch.zeros(2,3,4)\n",
        "tensor_3d\n",
        "#tensor_3d.dtype"
      ],
      "metadata": {
        "colab": {
          "base_uri": "https://localhost:8080/"
        },
        "id": "uUbcQ1mZTEjW",
        "outputId": "f3f06e8b-41e5-40ab-857c-e45342a2f1f0"
      },
      "execution_count": 10,
      "outputs": [
        {
          "output_type": "execute_result",
          "data": {
            "text/plain": [
              "torch.float32"
            ]
          },
          "metadata": {},
          "execution_count": 10
        }
      ]
    },
    {
      "cell_type": "code",
      "source": [
        "## Create a tensor out of numpy array\n",
        "my_tensor=torch.tensor(np1)\n",
        "my_tensor"
      ],
      "metadata": {
        "colab": {
          "base_uri": "https://localhost:8080/"
        },
        "id": "iUtSqoobTNJW",
        "outputId": "be4d8cb2-0447-4725-be28-13d9ded3fbb7"
      },
      "execution_count": 9,
      "outputs": [
        {
          "output_type": "execute_result",
          "data": {
            "text/plain": [
              "tensor([[0.4270, 0.3158, 0.5718, 0.4253],\n",
              "        [0.1301, 0.4342, 0.2270, 0.9240],\n",
              "        [0.4552, 0.5168, 0.7765, 0.5784]], dtype=torch.float64)"
            ]
          },
          "metadata": {},
          "execution_count": 9
        }
      ]
    },
    {
      "cell_type": "markdown",
      "source": [
        "## **Tensor Operations**"
      ],
      "metadata": {
        "id": "sbWtay5zT_-E"
      }
    },
    {
      "cell_type": "code",
      "source": [
        "my_torch=torch.arange(10)\n",
        "my_torch"
      ],
      "metadata": {
        "colab": {
          "base_uri": "https://localhost:8080/"
        },
        "id": "Gp-tVTHQUIwF",
        "outputId": "07cd8023-d08c-4e80-a43b-267ecd6cf9cc"
      },
      "execution_count": 11,
      "outputs": [
        {
          "output_type": "execute_result",
          "data": {
            "text/plain": [
              "tensor([0, 1, 2, 3, 4, 5, 6, 7, 8, 9])"
            ]
          },
          "metadata": {},
          "execution_count": 11
        }
      ]
    },
    {
      "cell_type": "code",
      "source": [
        "#Reshape and View\n",
        "\n",
        "my_torch=my_torch.reshape(2,5)\n",
        "my_torch"
      ],
      "metadata": {
        "colab": {
          "base_uri": "https://localhost:8080/"
        },
        "id": "s-qliZwbUP0n",
        "outputId": "80884d8b-b4bb-4dd9-9024-c9d7681e0ff0"
      },
      "execution_count": 12,
      "outputs": [
        {
          "output_type": "execute_result",
          "data": {
            "text/plain": [
              "tensor([[0, 1, 2, 3, 4],\n",
              "        [5, 6, 7, 8, 9]])"
            ]
          },
          "metadata": {},
          "execution_count": 12
        }
      ]
    },
    {
      "cell_type": "code",
      "source": [
        "#Reshape if we dont know the number of items\n",
        "my_torch2=torch.arange(15)\n",
        "my_torch2"
      ],
      "metadata": {
        "colab": {
          "base_uri": "https://localhost:8080/"
        },
        "id": "dAx0O-qTUg9U",
        "outputId": "3242319f-d9b0-45fc-9739-7fda04630b6f"
      },
      "execution_count": 15,
      "outputs": [
        {
          "output_type": "execute_result",
          "data": {
            "text/plain": [
              "tensor([ 0,  1,  2,  3,  4,  5,  6,  7,  8,  9, 10, 11, 12, 13, 14])"
            ]
          },
          "metadata": {},
          "execution_count": 15
        }
      ]
    },
    {
      "cell_type": "code",
      "source": [
        "my_torch2=my_torch2.reshape(5,-1)\n",
        "my_torch2"
      ],
      "metadata": {
        "colab": {
          "base_uri": "https://localhost:8080/"
        },
        "id": "5qGiMT3ZUnyI",
        "outputId": "47ec793e-c3fe-4b58-de8b-aa6c028f5b42"
      },
      "execution_count": 18,
      "outputs": [
        {
          "output_type": "execute_result",
          "data": {
            "text/plain": [
              "tensor([[ 0,  1,  2],\n",
              "        [ 3,  4,  5],\n",
              "        [ 6,  7,  8],\n",
              "        [ 9, 10, 11],\n",
              "        [12, 13, 14]])"
            ]
          },
          "metadata": {},
          "execution_count": 18
        }
      ]
    },
    {
      "cell_type": "code",
      "source": [
        "my_torch3=torch.arange(10)\n",
        "my_torch3"
      ],
      "metadata": {
        "colab": {
          "base_uri": "https://localhost:8080/"
        },
        "id": "Xat1SS0KU847",
        "outputId": "a2b6e1ec-6814-48aa-8487-bfb599aec33b"
      },
      "execution_count": 19,
      "outputs": [
        {
          "output_type": "execute_result",
          "data": {
            "text/plain": [
              "tensor([0, 1, 2, 3, 4, 5, 6, 7, 8, 9])"
            ]
          },
          "metadata": {},
          "execution_count": 19
        }
      ]
    },
    {
      "cell_type": "code",
      "source": [
        "my_torch4=my_torch3.view(2,-1)\n",
        "my_torch4"
      ],
      "metadata": {
        "colab": {
          "base_uri": "https://localhost:8080/"
        },
        "id": "-BIxjJNbVAhe",
        "outputId": "fc4f859c-58b5-4820-d685-a8d15d2dff94"
      },
      "execution_count": 20,
      "outputs": [
        {
          "output_type": "execute_result",
          "data": {
            "text/plain": [
              "tensor([[0, 1, 2, 3, 4],\n",
              "        [5, 6, 7, 8, 9]])"
            ]
          },
          "metadata": {},
          "execution_count": 20
        }
      ]
    },
    {
      "cell_type": "markdown",
      "source": [
        "Both `reshape` and `view` are used to change the shape of a tensor. However, there are some key differences.\n",
        "\n",
        "**view**\n",
        "\n",
        "Returns a view of the original tensor: This means that the new tensor shares the same underlying data as the original tensor. Any changes made to the view will be reflected in the original tensor, and vice versa.\n",
        "Requires the tensor to be contiguous: A contiguous tensor is one whose elements are stored in a contiguous block of memory. If the tensor is not contiguous, view will raise an error. You can use `torch.contiguous()` to make a tensor contiguous.\n",
        "Generally faster than reshape: Since view does not copy the data, it is usually faster than reshape.\n",
        "\n",
        "\n",
        "**reshape**\n",
        "\n",
        "May return a copy or a view of the original tensor: If the new shape is compatible with the original tensor's memory layout, reshape will return a view. Otherwise, it will return a copy. This behavior is not guaranteed, and it may change in future PyTorch versions.\n",
        "Can handle non-contiguous tensors: Unlike view, reshape can handle non-contiguous tensors. It will automatically copy the data if necessary.\n",
        "May be slower than view: Since reshape may need to copy the data, it can be slower than view.\n",
        "\n",
        "**In summary:**\n",
        "\n",
        "If you need a view of the original tensor and the tensor is contiguous, use view.\n",
        "If you need to change the shape of a non-contiguous tensor, or if you don't care whether the new tensor is a view or a copy, use reshape.\n",
        "If you need a copy of the tensor with a new shape, use` clone()` followed by `reshape()`\n",
        "In the context of your code:\n",
        "\n",
        "Both reshape and view are used to change the shape of the tensors my_torch, my_torch2, and my_torch3. Since these tensors are contiguous, both methods will return a view of the original tensor. Therefore, in this case, there is no practical difference between using reshape and view."
      ],
      "metadata": {
        "id": "5i3qZV8ZVtAk"
      }
    },
    {
      "cell_type": "code",
      "source": [
        "# with reshape and view they will update\n",
        "\n",
        "my_torch5=torch.arange(10)\n",
        "my_torch5"
      ],
      "metadata": {
        "colab": {
          "base_uri": "https://localhost:8080/"
        },
        "id": "2YM6iBZuVxBJ",
        "outputId": "17268254-2dc1-4e43-c89b-66bf869f3e8a"
      },
      "execution_count": 21,
      "outputs": [
        {
          "output_type": "execute_result",
          "data": {
            "text/plain": [
              "tensor([0, 1, 2, 3, 4, 5, 6, 7, 8, 9])"
            ]
          },
          "metadata": {},
          "execution_count": 21
        }
      ]
    },
    {
      "cell_type": "code",
      "source": [
        "my_torch6=my_torch5.reshape(2,5)\n",
        "my_torch6"
      ],
      "metadata": {
        "colab": {
          "base_uri": "https://localhost:8080/"
        },
        "id": "ty-u37oPWjvi",
        "outputId": "e967b88e-6377-4aea-911c-a683f9fab229"
      },
      "execution_count": 22,
      "outputs": [
        {
          "output_type": "execute_result",
          "data": {
            "text/plain": [
              "tensor([[0, 1, 2, 3, 4],\n",
              "        [5, 6, 7, 8, 9]])"
            ]
          },
          "metadata": {},
          "execution_count": 22
        }
      ]
    },
    {
      "cell_type": "code",
      "source": [
        "my_torch5[1]=5000\n",
        "my_torch5"
      ],
      "metadata": {
        "colab": {
          "base_uri": "https://localhost:8080/"
        },
        "id": "ZcSYWOh1Wqz3",
        "outputId": "21b109a6-cf40-47c1-ac40-d758304533d0"
      },
      "execution_count": 24,
      "outputs": [
        {
          "output_type": "execute_result",
          "data": {
            "text/plain": [
              "tensor([   0, 5000,    2,    3,    4,    5,    6,    7,    8,    9])"
            ]
          },
          "metadata": {},
          "execution_count": 24
        }
      ]
    },
    {
      "cell_type": "code",
      "source": [
        "my_torch6\n",
        "#the value at [1] has been updated"
      ],
      "metadata": {
        "colab": {
          "base_uri": "https://localhost:8080/"
        },
        "id": "VY0jWGXUWxP9",
        "outputId": "0054d3cb-cbf9-4417-ed22-bfc290f0b838"
      },
      "execution_count": 27,
      "outputs": [
        {
          "output_type": "execute_result",
          "data": {
            "text/plain": [
              "tensor([[   0, 5000,    2,    3,    4],\n",
              "        [   5,    6,    7,    8,    9]])"
            ]
          },
          "metadata": {},
          "execution_count": 27
        }
      ]
    },
    {
      "cell_type": "code",
      "source": [
        "#Slices\n",
        "\n",
        "my_torch7=torch.arange(10)\n",
        "my_torch7"
      ],
      "metadata": {
        "colab": {
          "base_uri": "https://localhost:8080/"
        },
        "id": "LW42QdkLW3ZQ",
        "outputId": "fe601a19-5e5e-4665-94eb-12d9421a4231"
      },
      "execution_count": 28,
      "outputs": [
        {
          "output_type": "execute_result",
          "data": {
            "text/plain": [
              "tensor([0, 1, 2, 3, 4, 5, 6, 7, 8, 9])"
            ]
          },
          "metadata": {},
          "execution_count": 28
        }
      ]
    },
    {
      "cell_type": "code",
      "source": [
        "#Graba specific item\n",
        "my_torch7[7]"
      ],
      "metadata": {
        "colab": {
          "base_uri": "https://localhost:8080/"
        },
        "id": "2hV8nkoNXBb8",
        "outputId": "c5eafb52-ccf6-4aba-ffde-15ad79725c7b"
      },
      "execution_count": 29,
      "outputs": [
        {
          "output_type": "execute_result",
          "data": {
            "text/plain": [
              "tensor(7)"
            ]
          },
          "metadata": {},
          "execution_count": 29
        }
      ]
    },
    {
      "cell_type": "code",
      "source": [
        "#Grab Slices\n",
        "my_torch8=my_torch7.reshape(5,2)\n",
        "my_torch8"
      ],
      "metadata": {
        "colab": {
          "base_uri": "https://localhost:8080/"
        },
        "id": "mYh7qx_xXGgR",
        "outputId": "5df7c780-9935-4cad-ff94-0858607dd657"
      },
      "execution_count": 30,
      "outputs": [
        {
          "output_type": "execute_result",
          "data": {
            "text/plain": [
              "tensor([[0, 1],\n",
              "        [2, 3],\n",
              "        [4, 5],\n",
              "        [6, 7],\n",
              "        [8, 9]])"
            ]
          },
          "metadata": {},
          "execution_count": 30
        }
      ]
    },
    {
      "cell_type": "code",
      "source": [
        "my_torch8[:,1]"
      ],
      "metadata": {
        "colab": {
          "base_uri": "https://localhost:8080/"
        },
        "id": "VfJxvrnlXSAE",
        "outputId": "84df65fc-504e-4764-b499-e5e886b7fae5"
      },
      "execution_count": 31,
      "outputs": [
        {
          "output_type": "execute_result",
          "data": {
            "text/plain": [
              "tensor([1, 3, 5, 7, 9])"
            ]
          },
          "metadata": {},
          "execution_count": 31
        }
      ]
    },
    {
      "cell_type": "code",
      "source": [
        "#return a column\n",
        "my_torch8[:,1:]"
      ],
      "metadata": {
        "colab": {
          "base_uri": "https://localhost:8080/"
        },
        "id": "Y0UGVLl2XXNw",
        "outputId": "9f4afbf9-ea3e-4122-b5b7-2b0e1c2faad7"
      },
      "execution_count": 32,
      "outputs": [
        {
          "output_type": "execute_result",
          "data": {
            "text/plain": [
              "tensor([[1],\n",
              "        [3],\n",
              "        [5],\n",
              "        [7],\n",
              "        [9]])"
            ]
          },
          "metadata": {},
          "execution_count": 32
        }
      ]
    },
    {
      "cell_type": "code",
      "source": [],
      "metadata": {
        "id": "3_mLSh72Xcuy"
      },
      "execution_count": null,
      "outputs": []
    },
    {
      "cell_type": "markdown",
      "source": [
        "## **TENSOR MATH OPERATIONS**"
      ],
      "metadata": {
        "id": "BYhVFwlVXwPV"
      }
    },
    {
      "cell_type": "code",
      "source": [
        "tensor_a=torch.tensor([1,2,3,4])\n",
        "tensor_b=torch.tensor([5,6,7,8])\n"
      ],
      "metadata": {
        "id": "deJlZ0wZX9Ld"
      },
      "execution_count": 35,
      "outputs": []
    },
    {
      "cell_type": "code",
      "source": [
        "#Addition\n",
        "tensor_a+tensor_b"
      ],
      "metadata": {
        "colab": {
          "base_uri": "https://localhost:8080/"
        },
        "id": "a_DUYKN8YX0K",
        "outputId": "9bfab793-6d26-4387-cb09-2badcedd0afe"
      },
      "execution_count": 36,
      "outputs": [
        {
          "output_type": "execute_result",
          "data": {
            "text/plain": [
              "tensor([ 6,  8, 10, 12])"
            ]
          },
          "metadata": {},
          "execution_count": 36
        }
      ]
    },
    {
      "cell_type": "code",
      "source": [
        "#Tensor Addition Long hand\n",
        "\n",
        "torch.add(tensor_a,tensor_b)"
      ],
      "metadata": {
        "colab": {
          "base_uri": "https://localhost:8080/"
        },
        "id": "HbKaXYEdZxM8",
        "outputId": "17faeb73-1711-4ce8-f597-99646672621d"
      },
      "execution_count": 37,
      "outputs": [
        {
          "output_type": "execute_result",
          "data": {
            "text/plain": [
              "tensor([ 6,  8, 10, 12])"
            ]
          },
          "metadata": {},
          "execution_count": 37
        }
      ]
    },
    {
      "cell_type": "code",
      "source": [
        "#Subtraction\n",
        "tensor_b-tensor_a\n",
        "\n",
        "# torch.sub(tensor_b,tensor_a)"
      ],
      "metadata": {
        "colab": {
          "base_uri": "https://localhost:8080/"
        },
        "id": "1TCmiflSZ5HM",
        "outputId": "4aa05848-003d-421d-ff3c-a273538a19df"
      },
      "execution_count": 41,
      "outputs": [
        {
          "output_type": "execute_result",
          "data": {
            "text/plain": [
              "tensor([4, 4, 4, 4])"
            ]
          },
          "metadata": {},
          "execution_count": 41
        }
      ]
    },
    {
      "cell_type": "code",
      "source": [
        "#Multiply\n",
        "#tensor_a*tensor_b\n",
        "\n",
        "torch.multiply(tensor_a,tensor_b)"
      ],
      "metadata": {
        "colab": {
          "base_uri": "https://localhost:8080/"
        },
        "id": "sTfJhG_FaZ_N",
        "outputId": "d82a551d-cd41-4f09-9cff-63c622a0c2cb"
      },
      "execution_count": 42,
      "outputs": [
        {
          "output_type": "execute_result",
          "data": {
            "text/plain": [
              "tensor([ 5, 12, 21, 32])"
            ]
          },
          "metadata": {},
          "execution_count": 42
        }
      ]
    },
    {
      "cell_type": "code",
      "source": [
        "#Divsion\n",
        "\n",
        "#tensor_a/tensor_b\n",
        "\n",
        "torch.div(tensor_a,tensor_b)"
      ],
      "metadata": {
        "colab": {
          "base_uri": "https://localhost:8080/"
        },
        "id": "Bxm5WJ1UalsQ",
        "outputId": "0e8f974e-6a04-4093-e959-c96513d4b3eb"
      },
      "execution_count": 44,
      "outputs": [
        {
          "output_type": "execute_result",
          "data": {
            "text/plain": [
              "tensor([0.2000, 0.3333, 0.4286, 0.5000])"
            ]
          },
          "metadata": {},
          "execution_count": 44
        }
      ]
    },
    {
      "cell_type": "code",
      "source": [
        "#Modular\n",
        "\n",
        "tensor_b%tensor_a\n",
        "\n",
        "#torch.remainder(tensor_b,tensor_a)"
      ],
      "metadata": {
        "colab": {
          "base_uri": "https://localhost:8080/"
        },
        "id": "gtPoas79ay_r",
        "outputId": "e0b25ae0-7803-46bc-f159-a49e1d01d09b"
      },
      "execution_count": 46,
      "outputs": [
        {
          "output_type": "execute_result",
          "data": {
            "text/plain": [
              "tensor([0, 0, 1, 0])"
            ]
          },
          "metadata": {},
          "execution_count": 46
        }
      ]
    },
    {
      "cell_type": "code",
      "source": [
        "#Exponents/Power\n",
        "\n",
        "#tensor_a**tensor_b\n",
        "\n",
        "#torch.pow(tensor_a,tensor_b)\n",
        "\n",
        "tensor_a.pow(tensor_b)"
      ],
      "metadata": {
        "colab": {
          "base_uri": "https://localhost:8080/"
        },
        "id": "MWHJm8tHbEMx",
        "outputId": "ac644126-ed85-42b7-a15d-5c66cf3d911b"
      },
      "execution_count": 49,
      "outputs": [
        {
          "output_type": "execute_result",
          "data": {
            "text/plain": [
              "tensor([    1,    64,  2187, 65536])"
            ]
          },
          "metadata": {},
          "execution_count": 49
        }
      ]
    },
    {
      "cell_type": "code",
      "source": [
        "#Reassignment\n",
        "\n",
        "#tensor_a+=tensor_b\n",
        "#tensor_a\n",
        "tensor_a=tensor_a.add_(tensor_b)\n",
        "tensor_a"
      ],
      "metadata": {
        "colab": {
          "base_uri": "https://localhost:8080/"
        },
        "id": "3a-I6zqpbRym",
        "outputId": "b9bc23aa-7ac3-4936-c923-d31fdb2649db"
      },
      "execution_count": 50,
      "outputs": [
        {
          "output_type": "execute_result",
          "data": {
            "text/plain": [
              "tensor([ 6,  8, 10, 12])"
            ]
          },
          "metadata": {},
          "execution_count": 50
        }
      ]
    },
    {
      "cell_type": "code",
      "source": [],
      "metadata": {
        "id": "PfPFO91JcN03"
      },
      "execution_count": null,
      "outputs": []
    }
  ]
}